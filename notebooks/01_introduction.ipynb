{
 "cells": [
  {
   "cell_type": "markdown",
   "metadata": {},
   "source": [
    "# COEC Framework Tutorial: Introduction to Constraint-Oriented Emergent Computation\n",
    "\n",
    "This notebook introduces the basic concepts of COEC through hands-on examples."
   ]
  },
  {
   "cell_type": "markdown",
   "metadata": {},
   "source": [
    "## 1. Core Concepts\n",
    "\n",
    "COEC views computation as the trajectory of a system through constrained state spaces. The key components are:\n",
    "\n",
    "- **Substrate (S)**: The physical or biological system\n",
    "- **Constraints (C)**: Rules that guide system evolution\n",
    "- **Energy Landscape (E)**: The optimization surface\n",
    "- **Evolution Operator (Φ)**: How the system changes over time\n",
    "- **Residual (R)**: The computational output"
   ]
  },
  {
   "cell_type": "code",
   "execution_count": null,
   "metadata": {},
   "outputs": [],
   "source": [
    "# Import necessary libraries\n",
    "import numpy as np\n",
    "import matplotlib.pyplot as plt\n",
    "from coec import Substrate, COECSystem\n",
    "from coec.constraints import EnergeticConstraint, TopologicalConstraint\n",
    "from coec.evolution import GradientDescentEvolver"
   ]
  },
  {
   "cell_type": "markdown",
   "metadata": {},
   "source": [
    "## 2. Creating a Simple COEC System\n",
    "\n",
    "Let's create a basic system where particles organize themselves under constraints."
   ]
  },
  {
   "cell_type": "code",
   "execution_count": null,
   "metadata": {},
   "outputs": [],
   "source": [
    "# Create a substrate with 5 particles in 2D space\n",
    "substrate = Substrate(dimensions=2, size=5)\n",
    "\n",
    "# Define constraints\n",
    "energy_constraint = EnergeticConstraint(\n",
    "    name=\"attraction\",\n",
    "    potential=\"harmonic\",\n",
    "    precision=1.0,\n",
    "    parameters={\"k\": 1.0, \"r0\": 2.0}\n",
    ")\n",
    "\n",
    "topology_constraint = TopologicalConstraint(\n",
    "    name=\"connectivity\",\n",
    "    connectivity=\"chain\",\n",
    "    precision=2.0,\n",
    "    parameters={\"bond_length\": 2.0, \"tolerance\": 0.5}\n",
    ")\n",
    "\n",
    "# Create evolution operator\n",
    "evolver = GradientDescentEvolver(learning_rate=0.05, momentum=0.9)\n",
    "\n",
    "# Assemble the COEC system\n",
    "system = COECSystem(\n",
    "    substrate=substrate,\n",
    "    constraints=[energy_constraint, topology_constraint],\n",
    "    evolver=evolver\n",
    ")"
   ]
  },
  {
   "cell_type": "markdown",
   "metadata": {},
   "source": [
    "## 3. Running the Evolution\n",
    "\n",
    "Now let's evolve the system and see how constraints shape its behavior."
   ]
  },
  {
   "cell_type": "code",
   "execution_count": null,
   "metadata": {},
   "outputs": [],
   "source": [
    "# Run the evolution\n",
    "result = system.evolve(steps=500)\n",
    "\n",
    "print(f\"Initial energy: {result.metadata['energy_history'][0]:.3f}\")\n",
    "print(f\"Final energy: {result.final_energy:.3f}\")\n",
    "print(\"\\nFinal constraint satisfaction:\")\n",
    "for name, satisfaction in result.constraint_satisfaction.items():\n",
    "    print(f\"  {name}: {satisfaction:.3f}\")"
   ]
  },
  {
   "cell_type": "markdown",
   "metadata": {},
   "source": [
    "## 4. Visualizing the Results"
   ]
  },
  {
   "cell_type": "code",
   "execution_count": null,
   "metadata": {},
   "outputs": [],
   "source": [
    "# Visualize the evolution\n",
    "fig, axes = plt.subplots(2, 2, figsize=(12, 10))\n",
    "\n",
    "# Plot initial configuration\n",
    "ax = axes[0, 0]\n",
    "initial_state = result.trajectory[0]\n",
    "ax.scatter(initial_state[:, 0], initial_state[:, 1], s=100, c='blue')\n",
    "ax.plot(initial_state[:, 0], initial_state[:, 1], 'b-', alpha=0.3)\n",
    "ax.set_title('Initial Configuration')\n",
    "ax.set_aspect('equal')\n",
    "\n",
    "# Plot final configuration\n",
    "ax = axes[0, 1]\n",
    "final_state = result.final_state\n",
    "ax.scatter(final_state[:, 0], final_state[:, 1], s=100, c='red')\n",
    "ax.plot(final_state[:, 0], final_state[:, 1], 'r-', linewidth=2)\n",
    "ax.set_title('Final Configuration')\n",
    "ax.set_aspect('equal')\n",
    "\n",
    "# Plot energy evolution\n",
    "ax = axes[1, 0]\n",
    "ax.plot(result.metadata['energy_history'])\n",
    "ax.set_xlabel('Step')\n",
    "ax.set_ylabel('Energy')\n",
    "ax.set_title('Energy Evolution')\n",
    "ax.grid(True, alpha=0.3)\n",
    "\n",
    "# Plot constraint satisfaction\n",
    "ax = axes[1, 1]\n",
    "for name, history in result.metadata['constraint_history'].items():\n",
    "    ax.plot(history, label=name)\n",
    "ax.set_xlabel('Step')\n",
    "ax.set_ylabel('Satisfaction')\n",
    "ax.set_title('Constraint Satisfaction Evolution')\n",
    "ax.legend()\n",
    "ax.grid(True, alpha=0.3)\n",
    "ax.set_ylim([0, 1.1])\n",
    "\n",
    "plt.tight_layout()\n",
    "plt.show()"
   ]
  },
  {
   "cell_type": "markdown",
   "metadata": {},
   "source": [
    "## 5. Understanding the Results\n",
    "\n",
    "The system evolved from a random configuration to one that satisfies both constraints:\n",
    "- The **energetic constraint** brings particles to preferred distances\n",
    "- The **topological constraint** maintains chain connectivity\n",
    "\n",
    "This demonstrates how computation emerges from constraint satisfaction rather than explicit programming."
   ]
  },
  {
   "cell_type": "markdown",
   "metadata": {},
   "source": [
    "## Next Steps\n",
    "\n",
    "1. Try different constraint types and parameters\n",
    "2. Explore other evolution operators (Monte Carlo, Adaptive)\n",
    "3. Build more complex systems with multiple constraint types\n",
    "4. Implement your own constraints for specific applications"
   ]
  }
 ],
 "metadata": {
  "kernelspec": {
   "display_name": "Python 3",
   "language": "python",
   "name": "python3"
  },
  "language_info": {
   "codemirror_mode": {
    "name": "ipython",
    "version": 3
   },
   "file_extension": ".py",
   "mimetype": "text/x-python",
   "name": "python",
   "nbconvert_exporter": "python",
   "pygments_lexer": "ipython3",
   "version": "3.8.0"
  }
 },
 "nbformat": 4,
 "nbformat_minor": 4
}
